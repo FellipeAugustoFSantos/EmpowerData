{
 "cells": [
  {
   "cell_type": "code",
   "execution_count": 1,
   "id": "e7ca51a1",
   "metadata": {},
   "outputs": [
    {
     "name": "stdout",
     "output_type": "stream",
     "text": [
      "testando o ambiente jupyter notebook\n"
     ]
    }
   ],
   "source": [
    "print(\"testando o ambiente jupyter notebook\")"
   ]
  },
  {
   "cell_type": "markdown",
   "id": "6a259d61",
   "metadata": {},
   "source": []
  },
  {
   "cell_type": "markdown",
   "id": "37733fa4",
   "metadata": {},
   "source": [
    "# Textos\n",
    "## titulos\n",
    "### titulos\n",
    "\n",
    "- teste1\n",
    "- teste2\n",
    "- teste3"
   ]
  },
  {
   "cell_type": "code",
   "execution_count": 2,
   "id": "02358b6b",
   "metadata": {},
   "outputs": [
    {
     "name": "stdout",
     "output_type": "stream",
     "text": [
      "Celula de código\n"
     ]
    }
   ],
   "source": [
    "print(\"Celula de código\")"
   ]
  },
  {
   "cell_type": "code",
   "execution_count": null,
   "id": "a46e8950",
   "metadata": {},
   "outputs": [],
   "source": [
    "print(\"Teste adicionando células\")"
   ]
  }
 ],
 "metadata": {
  "kernelspec": {
   "display_name": "Python 3 (ipykernel)",
   "language": "python",
   "name": "python3"
  },
  "language_info": {
   "codemirror_mode": {
    "name": "ipython",
    "version": 3
   },
   "file_extension": ".py",
   "mimetype": "text/x-python",
   "name": "python",
   "nbconvert_exporter": "python",
   "pygments_lexer": "ipython3",
   "version": "3.10.9"
  }
 },
 "nbformat": 4,
 "nbformat_minor": 5
}
